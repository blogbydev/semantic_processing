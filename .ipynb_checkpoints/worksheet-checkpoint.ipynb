{
 "cells": [
  {
   "cell_type": "code",
   "execution_count": null,
   "id": "6d6ec5c8-4195-4afd-8ecf-785b51c978d8",
   "metadata": {},
   "outputs": [],
   "source": [
    "# from tensorflow.keras.preprocessing.text import Tokenizer\n",
    "# from tensorflow.keras.preprocessing.sequence import pad_sequences\n",
    "# from tensorflow.keras.layers import Embedding, GlobalAveragePooling1D\n",
    "# import tsensor\n",
    "# import numpy as np\n",
    "\n",
    "# sentences = [\n",
    "#     'The quick brown fox jumps over the lazy dog'\n",
    "# ]\n",
    "# tokenizer = Tokenizer()\n",
    "\n",
    "# tokenizer.fit_on_texts(sentences)\n",
    "\n",
    "# tokenizer.word_index\n",
    "\n",
    "# train_sequence = tokenizer.texts_to_sequences(sentences)\n",
    "# train_sequence = np.array(train_sequence)\n",
    "# print(train_sequence)\n",
    "\n",
    "# embedding = Embedding(input_dim=len(train_sequence[0]), output_dim=128)\n",
    "\n",
    "# train_sample = embedding(train_sequence)\n",
    "\n",
    "# print(train_sequence.shape)\n",
    "# print(train_sample.shape)\n",
    "\n",
    "# with tsensor.explain(fontname='monospace', dimfontname='monospace'):\n",
    "#     train_sample = embedding(train_sequence)\n",
    "\n",
    "# with tsensor.explain(fontname='monospace', dimfontname='monospace'):\n",
    "#     z = GlobalAveragePooling1D()(train_sample)\n",
    "\n",
    "# test_corpus = [\n",
    "#     'The quick brown fox jumps over the lazy dog.',\n",
    "#     'The quick brown fox.',\n",
    "#     'The lazy dog.',\n",
    "#     'The dog.',\n",
    "#     'Dog and the fox.',\n",
    "#     'Hello, world!'\n",
    "# ]\n",
    "\n",
    "# encoded_sentences = tokenizer.texts_to_sequences(test_corpus)\n",
    "# for sentence, encoded_sentence in zip(test_corpus, encoded_sentences):\n",
    "#     print(sentence, encoded_sentence)\n",
    "\n",
    "# MAX_SEQUENCE_LENGTH = max([len(s) for s in encoded_sentences])\n",
    "# MAX_SEQUENCE_LENGTH\n",
    "\n",
    "# X = pad_sequences(encoded_sentences, maxlen=MAX_SEQUENCE_LENGTH)\n",
    "# X\n",
    "\n",
    "# ## Embedding Layer\n",
    "\n",
    "# X.shape\n",
    "\n",
    "# X_embedded = embedding(X)\n",
    "\n",
    "# X_embedded.shape\n",
    "\n",
    "# with tsensor.explain(fontname='monospace', dimfontname='monospace'):\n",
    "#     x_em = embedding(X)\n",
    "\n",
    "# # this is like creating a \"sentence vector\" from \"word vectors\"\n",
    "# with tsensor.explain(fontname='monospace', dimfontname='monospace'):\n",
    "#     z = GlobalAveragePooling1D()(x_em)"
   ]
  },
  {
   "cell_type": "code",
   "execution_count": 1,
   "id": "bc9d8f78-c53a-48da-b515-64826d48336c",
   "metadata": {},
   "outputs": [],
   "source": [
    "import numpy as np\n",
    "from gensim.models import KeyedVectors\n",
    "\n",
    "import pandas as pd\n",
    "import matplotlib.pyplot as plt\n",
    "from sklearn.model_selection import train_test_split\n",
    "from tensorflow.keras.preprocessing import text_dataset_from_directory\n",
    "from tensorflow.keras.preprocessing.text import Tokenizer\n",
    "from tensorflow.keras.preprocessing.sequence import pad_sequences\n",
    "from tensorflow.keras.layers import Embedding, GlobalAveragePooling1D, Dense, Input\n",
    "from tensorflow.keras.models import Sequential\n",
    "from tensorflow.keras.optimizers import Adam\n",
    "\n",
    "import utils"
   ]
  },
  {
   "cell_type": "code",
   "execution_count": 2,
   "id": "441d08b5-b377-4564-be46-01bf38156e1c",
   "metadata": {},
   "outputs": [
    {
     "name": "stdout",
     "output_type": "stream",
     "text": [
      "/Users/suyashkumarsingh/projects/personal/semantic_processing\n"
     ]
    }
   ],
   "source": [
    "!pwd"
   ]
  },
  {
   "cell_type": "code",
   "execution_count": 3,
   "id": "88e4aa38-117e-43f7-a34c-7cd209d5e653",
   "metadata": {},
   "outputs": [
    {
     "name": "stdout",
     "output_type": "stream",
     "text": [
      "Found 25000 files belonging to 2 classes.\n"
     ]
    }
   ],
   "source": [
    "train_ds = text_dataset_from_directory('./Distributional Semantics/data/aclImdb/train')"
   ]
  },
  {
   "cell_type": "code",
   "execution_count": 4,
   "id": "647923ec-9c75-40f4-a514-1ab57744fd0d",
   "metadata": {},
   "outputs": [
    {
     "name": "stdout",
     "output_type": "stream",
     "text": [
      "Found 25000 files belonging to 2 classes.\n"
     ]
    }
   ],
   "source": [
    "test_ds = text_dataset_from_directory('./Distributional Semantics/data/aclImdb/test')"
   ]
  },
  {
   "cell_type": "code",
   "execution_count": 10,
   "id": "3330857c-35fd-48dc-971d-688518101744",
   "metadata": {},
   "outputs": [
    {
     "data": {
      "text/plain": [
       "\u001b[0;31mSignature:\u001b[0m \u001b[0mtrain_ds\u001b[0m\u001b[0;34m.\u001b[0m\u001b[0munbatch\u001b[0m\u001b[0;34m(\u001b[0m\u001b[0mname\u001b[0m\u001b[0;34m=\u001b[0m\u001b[0;32mNone\u001b[0m\u001b[0;34m)\u001b[0m \u001b[0;34m->\u001b[0m \u001b[0;34m'DatasetV2'\u001b[0m\u001b[0;34m\u001b[0m\u001b[0;34m\u001b[0m\u001b[0m\n",
       "\u001b[0;31mDocstring:\u001b[0m\n",
       "Splits elements of a dataset into multiple elements.\n",
       "\n",
       "For example, if elements of the dataset are shaped `[B, a0, a1, ...]`,\n",
       "where `B` may vary for each input element, then for each element in the\n",
       "dataset, the unbatched dataset will contain `B` consecutive elements\n",
       "of shape `[a0, a1, ...]`.\n",
       "\n",
       ">>> elements = [ [1, 2, 3], [1, 2], [1, 2, 3, 4] ]\n",
       ">>> dataset = tf.data.Dataset.from_generator(lambda: elements, tf.int64)\n",
       ">>> dataset = dataset.unbatch()\n",
       ">>> [a.item() for a in dataset.as_numpy_iterator()]\n",
       "[1, 2, 3, 1, 2, 1, 2, 3, 4]\n",
       "\n",
       "Note: `unbatch` requires a data copy to slice up the batched tensor into\n",
       "smaller, unbatched tensors. When optimizing performance, try to avoid\n",
       "unnecessary usage of `unbatch`.\n",
       "\n",
       "Args:\n",
       "  name: (Optional.) A name for the tf.data operation.\n",
       "\n",
       "Returns:\n",
       "  A new `Dataset` with the transformation applied as described above.\n",
       "\u001b[0;31mFile:\u001b[0m      ~/.pyenv/versions/tensorflow/lib/python3.11/site-packages/tensorflow/python/data/ops/dataset_ops.py\n",
       "\u001b[0;31mType:\u001b[0m      method"
      ]
     },
     "metadata": {},
     "output_type": "display_data"
    }
   ],
   "source": [
    "?train_ds.unbatch"
   ]
  },
  {
   "cell_type": "code",
   "execution_count": 15,
   "id": "83673f84-65ba-4138-9abb-b84e6549252a",
   "metadata": {},
   "outputs": [
    {
     "name": "stderr",
     "output_type": "stream",
     "text": [
      "2025-02-19 14:18:29.809394: I tensorflow/core/framework/local_rendezvous.cc:405] Local rendezvous is aborting with status: OUT_OF_RANGE: End of sequence\n"
     ]
    }
   ],
   "source": [
    "df_train = pd.DataFrame(train_ds.unbatch().as_numpy_iterator(), columns=['text', 'label'])\n",
    "df_test = pd.DataFrame(test_ds.unbatch().as_numpy_iterator(), columns= ['text', 'label'])\n",
    "_, xts = train_test_split(df_test, stratify=df_test['label'], test_size=0.25)"
   ]
  },
  {
   "cell_type": "code",
   "execution_count": 16,
   "id": "b1b30f44-2cc4-451a-86a9-d14de17b60e6",
   "metadata": {},
   "outputs": [],
   "source": [
    "df_train['text'] = df_train['text'].apply(lambda x : x.decode())\n",
    "xts['text'] = xts['text'].apply(lambda x: x.decode())"
   ]
  },
  {
   "cell_type": "code",
   "execution_count": 18,
   "id": "c2244a8e-1270-413e-899f-d4eacb3fd5b9",
   "metadata": {},
   "outputs": [
    {
     "data": {
      "text/html": [
       "<div>\n",
       "<style scoped>\n",
       "    .dataframe tbody tr th:only-of-type {\n",
       "        vertical-align: middle;\n",
       "    }\n",
       "\n",
       "    .dataframe tbody tr th {\n",
       "        vertical-align: top;\n",
       "    }\n",
       "\n",
       "    .dataframe thead th {\n",
       "        text-align: right;\n",
       "    }\n",
       "</style>\n",
       "<table border=\"1\" class=\"dataframe\">\n",
       "  <thead>\n",
       "    <tr style=\"text-align: right;\">\n",
       "      <th></th>\n",
       "      <th>text</th>\n",
       "      <th>label</th>\n",
       "    </tr>\n",
       "  </thead>\n",
       "  <tbody>\n",
       "    <tr>\n",
       "      <th>12191</th>\n",
       "      <td>I don't think you can get much worse then this. Put together bad actors, fake limbs, and three stupid stories and what do you get? This B-rate pointless excuse for a movie.&lt;br /&gt;&lt;br /&gt;The first st...</td>\n",
       "      <td>0</td>\n",
       "    </tr>\n",
       "    <tr>\n",
       "      <th>20045</th>\n",
       "      <td>CitizenX(1995) is the developing world's answer to Silence of the Lambs. Where `Silence' terrorized our peace of mind, `Citizen' exhausts and saddens us instead. This dramatization of the Chikatil...</td>\n",
       "      <td>1</td>\n",
       "    </tr>\n",
       "    <tr>\n",
       "      <th>3844</th>\n",
       "      <td>A patient escapes from a mental hospital, killing one of his keepers and then a University professor after he makes his way to the local college. Next semester, the late prof's replacement and a n...</td>\n",
       "      <td>0</td>\n",
       "    </tr>\n",
       "    <tr>\n",
       "      <th>7069</th>\n",
       "      <td>I'll keep the review of this program as short as possible. Skip it. Low budget, not funny, lousy script. Acting not quite as bad as the writing, but still bad. That's all you need to know, but I w...</td>\n",
       "      <td>0</td>\n",
       "    </tr>\n",
       "    <tr>\n",
       "      <th>15455</th>\n",
       "      <td>Simply, one of the funiest movies i've ever seen. It's a parody of crime-life, parody of everything that represents the Chicago 1930.- There is no realy need to underestimate this movie because ra...</td>\n",
       "      <td>1</td>\n",
       "    </tr>\n",
       "  </tbody>\n",
       "</table>\n",
       "</div>"
      ],
      "text/plain": [
       "                                                                                                                                                                                                          text  \\\n",
       "12191  I don't think you can get much worse then this. Put together bad actors, fake limbs, and three stupid stories and what do you get? This B-rate pointless excuse for a movie.<br /><br />The first st...   \n",
       "20045  CitizenX(1995) is the developing world's answer to Silence of the Lambs. Where `Silence' terrorized our peace of mind, `Citizen' exhausts and saddens us instead. This dramatization of the Chikatil...   \n",
       "3844   A patient escapes from a mental hospital, killing one of his keepers and then a University professor after he makes his way to the local college. Next semester, the late prof's replacement and a n...   \n",
       "7069   I'll keep the review of this program as short as possible. Skip it. Low budget, not funny, lousy script. Acting not quite as bad as the writing, but still bad. That's all you need to know, but I w...   \n",
       "15455  Simply, one of the funiest movies i've ever seen. It's a parody of crime-life, parody of everything that represents the Chicago 1930.- There is no realy need to underestimate this movie because ra...   \n",
       "\n",
       "       label  \n",
       "12191      0  \n",
       "20045      1  \n",
       "3844       0  \n",
       "7069       0  \n",
       "15455      1  "
      ]
     },
     "execution_count": 18,
     "metadata": {},
     "output_type": "execute_result"
    }
   ],
   "source": [
    "pd.options.display.max_colwidth=200\n",
    "df_train.sample(n=5)"
   ]
  },
  {
   "cell_type": "code",
   "execution_count": 22,
   "id": "36b445b1-d7a9-4ef8-ba0d-45f2f9950593",
   "metadata": {},
   "outputs": [],
   "source": [
    "tokenizer = Tokenizer()\n",
    "tokenizer.fit_on_texts(df_train['text'].to_list())\n",
    "\n",
    "train_sequences = tokenizer.texts_to_sequences(df_train['text'].to_list())\n",
    "test_sequences = tokenizer.texts_to_sequences(xts['text'].to_list())"
   ]
  },
  {
   "cell_type": "code",
   "execution_count": 23,
   "id": "8f9e96d1-64ae-4ad0-979b-0583c7a6c0f1",
   "metadata": {},
   "outputs": [
    {
     "name": "stdout",
     "output_type": "stream",
     "text": [
      "unique words: 88582\n"
     ]
    }
   ],
   "source": [
    "print(f'unique words: {len(tokenizer.word_index)}')"
   ]
  },
  {
   "cell_type": "code",
   "execution_count": 30,
   "id": "8556f3ef-19e8-4035-8ead-82140990f245",
   "metadata": {},
   "outputs": [
    {
     "name": "stdout",
     "output_type": "stream",
     "text": [
      "This was the first sequel I'd seen (apart from Return of Jafar) and I honestly thought before watching it that it would be close to the original. I was horribly disappointed.<br /><br />The storyline was, basically, the first script with a few extra characters and the situation turned around. Ariel and Eric have a daughter, Melody who isn't satisfied with life on land. She wants to become a mermaid. However, Ariel has kept her past from her daughter because she wants to protect her-and when Melody finds out she's upset and angry. And she then decides to run away, and she becomes a mermaid. So she's happy swimming around, and Ariel sets out to find her-as a mermaid.<br /><br />The story doesn't sound too bad written down, but the clichés and repeats of situations from the first movie are just too obvious. And adding the fact that Melody is, overall, extremely annoying, and the movie becomes almost unbearable.<br /><br />There's also a whole load of other new characters-Tip and Dash being two of them. They aren't too bad as characters in themselves-just try not to think of Timon or Pumbaa! The songs leave a lot to be desired too, they just don't have the same magical energy as the songs from the original did. The animation obviously didn't have a whole load of work put into it either-in parts it's jumpy, and not much imagination is used for the characters movements.<br /><br />Another piece of advice-try to forget about Ariel's original character while watching this movie. The beautiful, rebellious, curious teenager has 'all grown up' into a bland, boring wife and mother, and her trademark red hair is all tied up. This is much better viewed if you've never seen the original-you'll have nothing to compare it to.<br /><br />However, all in all, it could have been worse-it's not as bad as certain other sequels, such as Cinderella II. But it's not in the same league as the original. But it for your collection if nothing else but if Disney go on like this they'll lose all their older fans.\n",
      "[11, 13, 1, 83, 751, 471, 107, 968, 36, 989, 4, 12997, 2, 10, 1247, 194, 156, 146, 9, 12, 9, 59, 27, 488, 5, 1, 201, 10, 13, 2353, 682, 7, 7, 1, 766, 13, 688, 1, 83, 226, 16, 3, 168, 1724, 102, 2, 1, 901, 676, 184, 6041, 2, 2124, 25, 3, 574, 5745, 34, 215, 4077, 16, 110, 20, 1537, 56, 490, 5, 410, 3, 5975, 187, 6041, 44, 825, 38, 498, 36, 38, 574, 85, 56, 490, 5, 2903, 38, 2, 51, 5745, 655, 43, 438, 3050, 2, 1609, 2, 56, 92, 1065, 5, 518, 242, 2, 56, 457, 3, 5975, 35, 438, 651, 4416, 184, 2, 6041, 726, 43, 5, 166, 38, 14, 3, 5975, 7, 7, 1, 62, 149, 478, 96, 75, 395, 177, 18, 1, 1802, 2, 7476, 4, 1180, 36, 1, 83, 17, 23, 40, 96, 575, 2, 2888, 1, 189, 12, 5745, 6, 441, 573, 613, 2, 1, 17, 457, 217, 3789, 7, 7, 222, 79, 3, 223, 3790, 4, 82, 159, 102, 5558, 2, 8288, 109, 104, 4, 95, 33, 710, 96, 75, 14, 102, 8, 529, 40, 350, 21, 5, 101, 4, 5074, 39, 6702, 1, 687, 560, 3, 173, 5, 27, 4588, 96, 33, 40, 89, 25, 1, 169, 2537, 1702, 14, 1, 687, 36, 1, 201, 119, 1, 745, 537, 158, 25, 3, 223, 3790, 4, 154, 273, 80, 9, 342, 8, 528, 42, 11926, 2, 21, 73, 1542, 6, 340, 15, 1, 102, 3815, 7, 7, 157, 415, 4, 2006, 350, 5, 852, 41, 25242, 201, 106, 134, 146, 11, 17, 1, 304, 6792, 1992, 2338, 44, 17633, 2064, 16115, 80, 3, 1898, 354, 319, 2, 449, 2, 38, 5034, 764, 1150, 6, 29, 3129, 53, 11, 6, 73, 125, 2387, 45, 871, 112, 107, 1, 201, 487, 25, 161, 5, 1656, 9, 5, 7, 7, 187, 29, 8, 29, 9, 97, 25, 74, 430, 42, 21, 14, 75, 14, 810, 82, 2278, 138, 14, 2373, 1525, 18, 42, 21, 8, 1, 169, 2753, 14, 1, 201, 18, 9, 15, 126, 1588, 45, 161, 331, 18, 45, 906, 137, 20, 37, 11, 3657, 1581, 29, 65, 919, 448]\n",
      "['this', 'was', 'the', 'first', 'sequel', \"i'd\", 'seen', 'apart', 'from', 'return', 'of', 'jafar', 'and', 'i', 'honestly', 'thought', 'before', 'watching', 'it', 'that', 'it', 'would', 'be', 'close', 'to', 'the', 'original', 'i', 'was', 'horribly', 'disappointed', 'br', 'br', 'the', 'storyline', 'was', 'basically', 'the', 'first', 'script', 'with', 'a', 'few', 'extra', 'characters', 'and', 'the', 'situation', 'turned', 'around', 'ariel', 'and', 'eric', 'have', 'a', 'daughter', 'melody', 'who', \"isn't\", 'satisfied', 'with', 'life', 'on', 'land', 'she', 'wants', 'to', 'become', 'a', 'mermaid', 'however', 'ariel', 'has', 'kept', 'her', 'past', 'from', 'her', 'daughter', 'because', 'she', 'wants', 'to', 'protect', 'her', 'and', 'when', 'melody', 'finds', 'out', \"she's\", 'upset', 'and', 'angry', 'and', 'she', 'then', 'decides', 'to', 'run', 'away', 'and', 'she', 'becomes', 'a', 'mermaid', 'so', \"she's\", 'happy', 'swimming', 'around', 'and', 'ariel', 'sets', 'out', 'to', 'find', 'her', 'as', 'a', 'mermaid', 'br', 'br', 'the', 'story', \"doesn't\", 'sound', 'too', 'bad', 'written', 'down', 'but', 'the', 'clichés', 'and', 'repeats', 'of', 'situations', 'from', 'the', 'first', 'movie', 'are', 'just', 'too', 'obvious', 'and', 'adding', 'the', 'fact', 'that', 'melody', 'is', 'overall', 'extremely', 'annoying', 'and', 'the', 'movie', 'becomes', 'almost', 'unbearable', 'br', 'br', \"there's\", 'also', 'a', 'whole', 'load', 'of', 'other', 'new', 'characters', 'tip', 'and', 'dash', 'being', 'two', 'of', 'them', 'they', \"aren't\", 'too', 'bad', 'as', 'characters', 'in', 'themselves', 'just', 'try', 'not', 'to', 'think', 'of', 'timon', 'or', 'pumbaa', 'the', 'songs', 'leave', 'a', 'lot', 'to', 'be', 'desired', 'too', 'they', 'just', \"don't\", 'have', 'the', 'same', 'magical', 'energy', 'as', 'the', 'songs', 'from', 'the', 'original', 'did', 'the', 'animation', 'obviously', \"didn't\", 'have', 'a', 'whole', 'load', 'of', 'work', 'put', 'into', 'it', 'either', 'in', 'parts', \"it's\", 'jumpy', 'and', 'not', 'much', 'imagination', 'is', 'used', 'for', 'the', 'characters', 'movements', 'br', 'br', 'another', 'piece', 'of', 'advice', 'try', 'to', 'forget', 'about', \"ariel's\", 'original', 'character', 'while', 'watching', 'this', 'movie', 'the', 'beautiful', 'rebellious', 'curious', 'teenager', 'has', \"'all\", 'grown', \"up'\", 'into', 'a', 'bland', 'boring', 'wife', 'and', 'mother', 'and', 'her', 'trademark', 'red', 'hair', 'is', 'all', 'tied', 'up', 'this', 'is', 'much', 'better', 'viewed', 'if', \"you've\", 'never', 'seen', 'the', 'original', \"you'll\", 'have', 'nothing', 'to', 'compare', 'it', 'to', 'br', 'br', 'however', 'all', 'in', 'all', 'it', 'could', 'have', 'been', 'worse', \"it's\", 'not', 'as', 'bad', 'as', 'certain', 'other', 'sequels', 'such', 'as', 'cinderella', 'ii', 'but', \"it's\", 'not', 'in', 'the', 'same', 'league', 'as', 'the', 'original', 'but', 'it', 'for', 'your', 'collection', 'if', 'nothing', 'else', 'but', 'if', 'disney', 'go', 'on', 'like', 'this', \"they'll\", 'lose', 'all', 'their', 'older', 'fans']\n"
     ]
    }
   ],
   "source": [
    "print(df_train.iloc[0,0])\n",
    "print(train_sequences[0])\n",
    "print([tokenizer.index_word[k] for k in train_sequences[0]])"
   ]
  },
  {
   "cell_type": "code",
   "execution_count": 33,
   "id": "881aa6e9-1e00-4413-b4d0-1f1daa597ca3",
   "metadata": {},
   "outputs": [
    {
     "data": {
      "text/plain": [
       "2493"
      ]
     },
     "execution_count": 33,
     "metadata": {},
     "output_type": "execute_result"
    }
   ],
   "source": [
    "# now we have train_sequences and test_sequences which are arrays of token-list\n",
    "# we need to find the sentence in both train and test sequences which has the highest number of tokens\n",
    "\n",
    "train_max = max([len(sequence) for sequence in train_sequences])\n",
    "test_max = max([len(sequence) for sequence in test_sequences])\n",
    "MAX_SEQUENCE_LENGTH = max(train_max, test_max)\n",
    "MAX_SEQUENCE_LENGTH"
   ]
  },
  {
   "cell_type": "code",
   "execution_count": 34,
   "id": "b33d9bcd-9bc8-4059-97ef-39128a9e3f5b",
   "metadata": {},
   "outputs": [
    {
     "data": {
      "text/plain": [
       "\u001b[0;31mSignature:\u001b[0m\n",
       "\u001b[0mpad_sequences\u001b[0m\u001b[0;34m(\u001b[0m\u001b[0;34m\u001b[0m\n",
       "\u001b[0;34m\u001b[0m    \u001b[0msequences\u001b[0m\u001b[0;34m,\u001b[0m\u001b[0;34m\u001b[0m\n",
       "\u001b[0;34m\u001b[0m    \u001b[0mmaxlen\u001b[0m\u001b[0;34m=\u001b[0m\u001b[0;32mNone\u001b[0m\u001b[0;34m,\u001b[0m\u001b[0;34m\u001b[0m\n",
       "\u001b[0;34m\u001b[0m    \u001b[0mdtype\u001b[0m\u001b[0;34m=\u001b[0m\u001b[0;34m'int32'\u001b[0m\u001b[0;34m,\u001b[0m\u001b[0;34m\u001b[0m\n",
       "\u001b[0;34m\u001b[0m    \u001b[0mpadding\u001b[0m\u001b[0;34m=\u001b[0m\u001b[0;34m'pre'\u001b[0m\u001b[0;34m,\u001b[0m\u001b[0;34m\u001b[0m\n",
       "\u001b[0;34m\u001b[0m    \u001b[0mtruncating\u001b[0m\u001b[0;34m=\u001b[0m\u001b[0;34m'pre'\u001b[0m\u001b[0;34m,\u001b[0m\u001b[0;34m\u001b[0m\n",
       "\u001b[0;34m\u001b[0m    \u001b[0mvalue\u001b[0m\u001b[0;34m=\u001b[0m\u001b[0;36m0.0\u001b[0m\u001b[0;34m,\u001b[0m\u001b[0;34m\u001b[0m\n",
       "\u001b[0;34m\u001b[0m\u001b[0;34m)\u001b[0m\u001b[0;34m\u001b[0m\u001b[0;34m\u001b[0m\u001b[0m\n",
       "\u001b[0;31mDocstring:\u001b[0m\n",
       "Pads sequences to the same length.\n",
       "\n",
       "This function transforms a list (of length `num_samples`)\n",
       "of sequences (lists of integers)\n",
       "into a 2D NumPy array of shape `(num_samples, num_timesteps)`.\n",
       "`num_timesteps` is either the `maxlen` argument if provided,\n",
       "or the length of the longest sequence in the list.\n",
       "\n",
       "Sequences that are shorter than `num_timesteps`\n",
       "are padded with `value` until they are `num_timesteps` long.\n",
       "\n",
       "Sequences longer than `num_timesteps` are truncated\n",
       "so that they fit the desired length.\n",
       "\n",
       "The position where padding or truncation happens is determined by\n",
       "the arguments `padding` and `truncating`, respectively.\n",
       "Pre-padding or removing values from the beginning of the sequence is the\n",
       "default.\n",
       "\n",
       ">>> sequence = [[1], [2, 3], [4, 5, 6]]\n",
       ">>> keras.utils.pad_sequences(sequence)\n",
       "array([[0, 0, 1],\n",
       "       [0, 2, 3],\n",
       "       [4, 5, 6]], dtype=int32)\n",
       "\n",
       ">>> keras.utils.pad_sequences(sequence, value=-1)\n",
       "array([[-1, -1,  1],\n",
       "       [-1,  2,  3],\n",
       "       [ 4,  5,  6]], dtype=int32)\n",
       "\n",
       ">>> keras.utils.pad_sequences(sequence, padding='post')\n",
       "array([[1, 0, 0],\n",
       "       [2, 3, 0],\n",
       "       [4, 5, 6]], dtype=int32)\n",
       "\n",
       ">>> keras.utils.pad_sequences(sequence, maxlen=2)\n",
       "array([[0, 1],\n",
       "       [2, 3],\n",
       "       [5, 6]], dtype=int32)\n",
       "\n",
       "Args:\n",
       "    sequences: List of sequences (each sequence is a list of integers).\n",
       "    maxlen: Optional Int, maximum length of all sequences. If not provided,\n",
       "        sequences will be padded to the length of the longest individual\n",
       "        sequence.\n",
       "    dtype: (Optional, defaults to `\"int32\"`). Type of the output sequences.\n",
       "        To pad sequences with variable length strings, you can use `object`.\n",
       "    padding: String, \"pre\" or \"post\" (optional, defaults to `\"pre\"`):\n",
       "        pad either before or after each sequence.\n",
       "    truncating: String, \"pre\" or \"post\" (optional, defaults to `\"pre\"`):\n",
       "        remove values from sequences larger than\n",
       "        `maxlen`, either at the beginning or at the end of the sequences.\n",
       "    value: Float or String, padding value. (Optional, defaults to `0.`)\n",
       "\n",
       "Returns:\n",
       "    NumPy array with shape `(len(sequences), maxlen)`\n",
       "\u001b[0;31mFile:\u001b[0m      ~/.pyenv/versions/tensorflow/lib/python3.11/site-packages/keras/src/utils/sequence_utils.py\n",
       "\u001b[0;31mType:\u001b[0m      function"
      ]
     },
     "metadata": {},
     "output_type": "display_data"
    }
   ],
   "source": [
    "pad_sequences?"
   ]
  },
  {
   "cell_type": "code",
   "execution_count": 35,
   "id": "805e7e63-dba5-4cc1-abdb-85366498066a",
   "metadata": {},
   "outputs": [],
   "source": [
    "train_data = pad_sequences(train_sequences, maxlen=MAX_SEQUENCE_LENGTH)\n",
    "test_data = pad_sequences(test_sequences, maxlen=MAX_SEQUENCE_LENGTH)"
   ]
  },
  {
   "cell_type": "code",
   "execution_count": 37,
   "id": "6c138361-d0f3-47ed-a46f-75567ec51451",
   "metadata": {},
   "outputs": [
    {
     "name": "stdout",
     "output_type": "stream",
     "text": [
      "(25000, 2493)\n",
      "(6250, 2493)\n"
     ]
    }
   ],
   "source": [
    "print(train_data.shape)\n",
    "print(test_data.shape)"
   ]
  },
  {
   "cell_type": "code",
   "execution_count": 41,
   "id": "59764e74-cffe-4713-a215-f4c156cccc58",
   "metadata": {},
   "outputs": [
    {
     "name": "stdout",
     "output_type": "stream",
     "text": [
      "['<PAD>', '<PAD>', '<PAD>', '<PAD>', '<PAD>', '<PAD>', '<PAD>', '<PAD>', '<PAD>', '<PAD>', '<PAD>', '<PAD>', '<PAD>', '<PAD>', '<PAD>', '<PAD>', '<PAD>', '<PAD>', '<PAD>', '<PAD>', '<PAD>', '<PAD>', '<PAD>', '<PAD>', '<PAD>', '<PAD>', '<PAD>', '<PAD>', '<PAD>', '<PAD>', '<PAD>', '<PAD>', '<PAD>', '<PAD>', '<PAD>', '<PAD>', '<PAD>', '<PAD>', '<PAD>', '<PAD>', '<PAD>', '<PAD>', '<PAD>', '<PAD>', '<PAD>', '<PAD>', '<PAD>', '<PAD>', '<PAD>', '<PAD>', '<PAD>', '<PAD>', '<PAD>', '<PAD>', '<PAD>', '<PAD>', '<PAD>', '<PAD>', '<PAD>', '<PAD>', '<PAD>', '<PAD>', '<PAD>', '<PAD>', '<PAD>', '<PAD>', '<PAD>', '<PAD>', '<PAD>', '<PAD>', '<PAD>', '<PAD>', '<PAD>', '<PAD>', '<PAD>', '<PAD>', '<PAD>', '<PAD>', '<PAD>', '<PAD>', '<PAD>', '<PAD>', '<PAD>', '<PAD>', '<PAD>', '<PAD>', '<PAD>', '<PAD>', '<PAD>', '<PAD>', '<PAD>', '<PAD>', '<PAD>', '<PAD>', '<PAD>', '<PAD>', '<PAD>', '<PAD>', '<PAD>', '<PAD>', '<PAD>', '<PAD>', '<PAD>', '<PAD>', '<PAD>', '<PAD>', '<PAD>', '<PAD>', '<PAD>', '<PAD>', '<PAD>', '<PAD>', '<PAD>', '<PAD>', '<PAD>', '<PAD>', '<PAD>', '<PAD>', '<PAD>', '<PAD>', '<PAD>', '<PAD>', '<PAD>', '<PAD>', '<PAD>', '<PAD>', '<PAD>', '<PAD>', '<PAD>', '<PAD>', '<PAD>', '<PAD>', '<PAD>', '<PAD>', '<PAD>', '<PAD>', '<PAD>', '<PAD>', '<PAD>', '<PAD>', '<PAD>', '<PAD>', '<PAD>', '<PAD>', '<PAD>', '<PAD>', '<PAD>', '<PAD>', '<PAD>', '<PAD>', '<PAD>', '<PAD>', '<PAD>', '<PAD>', '<PAD>', '<PAD>', '<PAD>', '<PAD>', '<PAD>', '<PAD>', '<PAD>', '<PAD>', '<PAD>', '<PAD>', '<PAD>', '<PAD>', '<PAD>', '<PAD>', '<PAD>', '<PAD>', '<PAD>', '<PAD>', '<PAD>', '<PAD>', '<PAD>', '<PAD>', '<PAD>', '<PAD>', '<PAD>', '<PAD>', '<PAD>', '<PAD>', '<PAD>', '<PAD>', '<PAD>', '<PAD>', '<PAD>', '<PAD>', '<PAD>', '<PAD>', '<PAD>', '<PAD>', '<PAD>', '<PAD>', '<PAD>', '<PAD>', '<PAD>', '<PAD>', '<PAD>', '<PAD>', '<PAD>', '<PAD>', '<PAD>', '<PAD>', '<PAD>', '<PAD>', '<PAD>', '<PAD>', '<PAD>', '<PAD>', '<PAD>', '<PAD>', '<PAD>', '<PAD>', '<PAD>', '<PAD>', '<PAD>', '<PAD>', '<PAD>', '<PAD>', '<PAD>', '<PAD>', '<PAD>', '<PAD>', '<PAD>', '<PAD>', '<PAD>', '<PAD>', '<PAD>', '<PAD>', '<PAD>', '<PAD>', '<PAD>', '<PAD>', '<PAD>', '<PAD>', '<PAD>', '<PAD>', '<PAD>', '<PAD>', '<PAD>', '<PAD>', '<PAD>', '<PAD>', '<PAD>', '<PAD>', '<PAD>', '<PAD>', '<PAD>', '<PAD>', '<PAD>', '<PAD>', '<PAD>', '<PAD>', '<PAD>', '<PAD>', '<PAD>', '<PAD>', '<PAD>', '<PAD>', '<PAD>', '<PAD>', '<PAD>', '<PAD>', '<PAD>', '<PAD>', '<PAD>', '<PAD>', '<PAD>', '<PAD>', '<PAD>', '<PAD>', '<PAD>', '<PAD>', '<PAD>', '<PAD>', '<PAD>', '<PAD>', '<PAD>', '<PAD>', '<PAD>', '<PAD>', '<PAD>', '<PAD>', '<PAD>', '<PAD>', '<PAD>', '<PAD>', '<PAD>', '<PAD>', '<PAD>', '<PAD>', '<PAD>', '<PAD>', '<PAD>', '<PAD>', '<PAD>', '<PAD>', '<PAD>', '<PAD>', '<PAD>', '<PAD>', '<PAD>', '<PAD>', '<PAD>', '<PAD>', '<PAD>', '<PAD>', '<PAD>', '<PAD>', '<PAD>', '<PAD>', '<PAD>', '<PAD>', '<PAD>', '<PAD>', '<PAD>', '<PAD>', '<PAD>', '<PAD>', '<PAD>', '<PAD>', '<PAD>', '<PAD>', '<PAD>', '<PAD>', '<PAD>', '<PAD>', '<PAD>', '<PAD>', '<PAD>', '<PAD>', '<PAD>', '<PAD>', '<PAD>', '<PAD>', '<PAD>', '<PAD>', '<PAD>', '<PAD>', '<PAD>', '<PAD>', '<PAD>', '<PAD>', '<PAD>', '<PAD>', '<PAD>', '<PAD>', '<PAD>', '<PAD>', '<PAD>', '<PAD>', '<PAD>', '<PAD>', '<PAD>', '<PAD>', '<PAD>', '<PAD>', '<PAD>', '<PAD>', '<PAD>', '<PAD>', '<PAD>', '<PAD>', '<PAD>', '<PAD>', '<PAD>', '<PAD>', '<PAD>', '<PAD>', '<PAD>', '<PAD>', '<PAD>', '<PAD>', '<PAD>', '<PAD>', '<PAD>', '<PAD>', '<PAD>', '<PAD>', '<PAD>', '<PAD>', '<PAD>', '<PAD>', '<PAD>', '<PAD>', '<PAD>', '<PAD>', '<PAD>', '<PAD>', '<PAD>', '<PAD>', '<PAD>', '<PAD>', '<PAD>', '<PAD>', '<PAD>', '<PAD>', '<PAD>', '<PAD>', '<PAD>', '<PAD>', '<PAD>', '<PAD>', '<PAD>', '<PAD>', '<PAD>', '<PAD>', '<PAD>', '<PAD>', '<PAD>', '<PAD>', '<PAD>', '<PAD>', '<PAD>', '<PAD>', '<PAD>', '<PAD>', '<PAD>', '<PAD>', '<PAD>', '<PAD>', '<PAD>', '<PAD>', '<PAD>', '<PAD>', '<PAD>', '<PAD>', '<PAD>', '<PAD>', '<PAD>', '<PAD>', '<PAD>', '<PAD>', '<PAD>', '<PAD>', '<PAD>', '<PAD>', '<PAD>', '<PAD>', '<PAD>', '<PAD>', '<PAD>', '<PAD>', '<PAD>', '<PAD>', '<PAD>', '<PAD>', '<PAD>', '<PAD>', '<PAD>', '<PAD>', '<PAD>', '<PAD>', '<PAD>', '<PAD>', '<PAD>', '<PAD>', '<PAD>', '<PAD>', '<PAD>', '<PAD>', '<PAD>', '<PAD>', '<PAD>', '<PAD>', '<PAD>', '<PAD>', '<PAD>', '<PAD>', '<PAD>', '<PAD>', '<PAD>', '<PAD>', '<PAD>', '<PAD>', '<PAD>', '<PAD>', '<PAD>', '<PAD>', '<PAD>', '<PAD>', '<PAD>', '<PAD>', '<PAD>', '<PAD>', '<PAD>', '<PAD>', '<PAD>', '<PAD>', '<PAD>', '<PAD>', '<PAD>', '<PAD>', '<PAD>', '<PAD>', '<PAD>', '<PAD>', '<PAD>', '<PAD>', '<PAD>', '<PAD>', '<PAD>', '<PAD>', '<PAD>', '<PAD>', '<PAD>', '<PAD>', '<PAD>', '<PAD>', '<PAD>', '<PAD>', '<PAD>', '<PAD>', '<PAD>', '<PAD>', '<PAD>', '<PAD>', '<PAD>', '<PAD>', '<PAD>', '<PAD>', '<PAD>', '<PAD>', '<PAD>', '<PAD>', '<PAD>', '<PAD>', '<PAD>', '<PAD>', '<PAD>', '<PAD>', '<PAD>', '<PAD>', '<PAD>', '<PAD>', '<PAD>', '<PAD>', '<PAD>', '<PAD>', '<PAD>', '<PAD>', '<PAD>', '<PAD>', '<PAD>', '<PAD>', '<PAD>', '<PAD>', '<PAD>', '<PAD>', '<PAD>', '<PAD>', '<PAD>', '<PAD>', '<PAD>', '<PAD>', '<PAD>', '<PAD>', '<PAD>', '<PAD>', '<PAD>', '<PAD>', '<PAD>', '<PAD>', '<PAD>', '<PAD>', '<PAD>', '<PAD>', '<PAD>', '<PAD>', '<PAD>', '<PAD>', '<PAD>', '<PAD>', '<PAD>', '<PAD>', '<PAD>', '<PAD>', '<PAD>', '<PAD>', '<PAD>', '<PAD>', '<PAD>', '<PAD>', '<PAD>', '<PAD>', '<PAD>', '<PAD>', '<PAD>', '<PAD>', '<PAD>', '<PAD>', '<PAD>', '<PAD>', '<PAD>', '<PAD>', '<PAD>', '<PAD>', '<PAD>', '<PAD>', '<PAD>', '<PAD>', '<PAD>', '<PAD>', '<PAD>', '<PAD>', '<PAD>', '<PAD>', '<PAD>', '<PAD>', '<PAD>', '<PAD>', '<PAD>', '<PAD>', '<PAD>', '<PAD>', '<PAD>', '<PAD>', '<PAD>', '<PAD>', '<PAD>', '<PAD>', '<PAD>', '<PAD>', '<PAD>', '<PAD>', '<PAD>', '<PAD>', '<PAD>', '<PAD>', '<PAD>', '<PAD>', '<PAD>', '<PAD>', '<PAD>', '<PAD>', '<PAD>', '<PAD>', '<PAD>', '<PAD>', '<PAD>', '<PAD>', '<PAD>', '<PAD>', '<PAD>', '<PAD>', '<PAD>', '<PAD>', '<PAD>', '<PAD>', '<PAD>', '<PAD>', '<PAD>', '<PAD>', '<PAD>', '<PAD>', '<PAD>', '<PAD>', '<PAD>', '<PAD>', '<PAD>', '<PAD>', '<PAD>', '<PAD>', '<PAD>', '<PAD>', '<PAD>', '<PAD>', '<PAD>', '<PAD>', '<PAD>', '<PAD>', '<PAD>', '<PAD>', '<PAD>', '<PAD>', '<PAD>', '<PAD>', '<PAD>', '<PAD>', '<PAD>', '<PAD>', '<PAD>', '<PAD>', '<PAD>', '<PAD>', '<PAD>', '<PAD>', '<PAD>', '<PAD>', '<PAD>', '<PAD>', '<PAD>', '<PAD>', '<PAD>', '<PAD>', '<PAD>', '<PAD>', '<PAD>', '<PAD>', '<PAD>', '<PAD>', '<PAD>', '<PAD>', '<PAD>', '<PAD>', '<PAD>', '<PAD>', '<PAD>', '<PAD>', '<PAD>', '<PAD>', '<PAD>', '<PAD>', '<PAD>', '<PAD>', '<PAD>', '<PAD>', '<PAD>', '<PAD>', '<PAD>', '<PAD>', '<PAD>', '<PAD>', '<PAD>', '<PAD>', '<PAD>', '<PAD>', '<PAD>', '<PAD>', '<PAD>', '<PAD>', '<PAD>', '<PAD>', '<PAD>', '<PAD>', '<PAD>', '<PAD>', '<PAD>', '<PAD>', '<PAD>', '<PAD>', '<PAD>', '<PAD>', '<PAD>', '<PAD>', '<PAD>', '<PAD>', '<PAD>', '<PAD>', '<PAD>', '<PAD>', '<PAD>', '<PAD>', '<PAD>', '<PAD>', '<PAD>', '<PAD>', '<PAD>', '<PAD>', '<PAD>', '<PAD>', '<PAD>', '<PAD>', '<PAD>', '<PAD>', '<PAD>', '<PAD>', '<PAD>', '<PAD>', '<PAD>', '<PAD>', '<PAD>', '<PAD>', '<PAD>', '<PAD>', '<PAD>', '<PAD>', '<PAD>', '<PAD>', '<PAD>', '<PAD>', '<PAD>', '<PAD>', '<PAD>', '<PAD>', '<PAD>', '<PAD>', '<PAD>', '<PAD>', '<PAD>', '<PAD>', '<PAD>', '<PAD>', '<PAD>', '<PAD>', '<PAD>', '<PAD>', '<PAD>', '<PAD>', '<PAD>', '<PAD>', '<PAD>', '<PAD>', '<PAD>', '<PAD>', '<PAD>', '<PAD>', '<PAD>', '<PAD>', '<PAD>', '<PAD>', '<PAD>', '<PAD>', '<PAD>', '<PAD>', '<PAD>', '<PAD>', '<PAD>', '<PAD>', '<PAD>', '<PAD>', '<PAD>', '<PAD>', '<PAD>', '<PAD>', '<PAD>', '<PAD>', '<PAD>', '<PAD>', '<PAD>', '<PAD>', '<PAD>', '<PAD>', '<PAD>', '<PAD>', '<PAD>', '<PAD>', '<PAD>', '<PAD>', '<PAD>', '<PAD>', '<PAD>', '<PAD>', '<PAD>', '<PAD>', '<PAD>', '<PAD>', '<PAD>', '<PAD>', '<PAD>', '<PAD>', '<PAD>', '<PAD>', '<PAD>', '<PAD>', '<PAD>', '<PAD>', '<PAD>', '<PAD>', '<PAD>', '<PAD>', '<PAD>', '<PAD>', '<PAD>', '<PAD>', '<PAD>', '<PAD>', '<PAD>', '<PAD>', '<PAD>', '<PAD>', '<PAD>', '<PAD>', '<PAD>', '<PAD>', '<PAD>', '<PAD>', '<PAD>', '<PAD>', '<PAD>', '<PAD>', '<PAD>', '<PAD>', '<PAD>', '<PAD>', '<PAD>', '<PAD>', '<PAD>', '<PAD>', '<PAD>', '<PAD>', '<PAD>', '<PAD>', '<PAD>', '<PAD>', '<PAD>', '<PAD>', '<PAD>', '<PAD>', '<PAD>', '<PAD>', '<PAD>', '<PAD>', '<PAD>', '<PAD>', '<PAD>', '<PAD>', '<PAD>', '<PAD>', '<PAD>', '<PAD>', '<PAD>', '<PAD>', '<PAD>', '<PAD>', '<PAD>', '<PAD>', '<PAD>', '<PAD>', '<PAD>', '<PAD>', '<PAD>', '<PAD>', '<PAD>', '<PAD>', '<PAD>', '<PAD>', '<PAD>', '<PAD>', '<PAD>', '<PAD>', '<PAD>', '<PAD>', '<PAD>', '<PAD>', '<PAD>', '<PAD>', '<PAD>', '<PAD>', '<PAD>', '<PAD>', '<PAD>', '<PAD>', '<PAD>', '<PAD>', '<PAD>', '<PAD>', '<PAD>', '<PAD>', '<PAD>', '<PAD>', '<PAD>', '<PAD>', '<PAD>', '<PAD>', '<PAD>', '<PAD>', '<PAD>', '<PAD>', '<PAD>', '<PAD>', '<PAD>', '<PAD>', '<PAD>', '<PAD>', '<PAD>', '<PAD>', '<PAD>', '<PAD>', '<PAD>', '<PAD>', '<PAD>', '<PAD>', '<PAD>', '<PAD>', '<PAD>', '<PAD>', '<PAD>', '<PAD>', '<PAD>', '<PAD>', '<PAD>', '<PAD>', '<PAD>', '<PAD>', '<PAD>', '<PAD>', '<PAD>', '<PAD>', '<PAD>', '<PAD>', '<PAD>', '<PAD>', '<PAD>', '<PAD>', '<PAD>', '<PAD>', '<PAD>', '<PAD>', '<PAD>', '<PAD>', '<PAD>', '<PAD>', '<PAD>', '<PAD>', '<PAD>', '<PAD>', '<PAD>', '<PAD>', '<PAD>', '<PAD>', '<PAD>', '<PAD>', '<PAD>', '<PAD>', '<PAD>', '<PAD>', '<PAD>', '<PAD>', '<PAD>', '<PAD>', '<PAD>', '<PAD>', '<PAD>', '<PAD>', '<PAD>', '<PAD>', '<PAD>', '<PAD>', '<PAD>', '<PAD>', '<PAD>', '<PAD>', '<PAD>', '<PAD>', '<PAD>', '<PAD>', '<PAD>', '<PAD>', '<PAD>', '<PAD>', '<PAD>', '<PAD>', '<PAD>', '<PAD>', '<PAD>', '<PAD>', '<PAD>', '<PAD>', '<PAD>', '<PAD>', '<PAD>', '<PAD>', '<PAD>', '<PAD>', '<PAD>', '<PAD>', '<PAD>', '<PAD>', '<PAD>', '<PAD>', '<PAD>', '<PAD>', '<PAD>', '<PAD>', '<PAD>', '<PAD>', '<PAD>', '<PAD>', '<PAD>', '<PAD>', '<PAD>', '<PAD>', '<PAD>', '<PAD>', '<PAD>', '<PAD>', '<PAD>', '<PAD>', '<PAD>', '<PAD>', '<PAD>', '<PAD>', '<PAD>', '<PAD>', '<PAD>', '<PAD>', '<PAD>', '<PAD>', '<PAD>', '<PAD>', '<PAD>', '<PAD>', '<PAD>', '<PAD>', '<PAD>', '<PAD>', '<PAD>', '<PAD>', '<PAD>', '<PAD>', '<PAD>', '<PAD>', '<PAD>', '<PAD>', '<PAD>', '<PAD>', '<PAD>', '<PAD>', '<PAD>', '<PAD>', '<PAD>', '<PAD>', '<PAD>', '<PAD>', '<PAD>', '<PAD>', '<PAD>', '<PAD>', '<PAD>', '<PAD>', '<PAD>', '<PAD>', '<PAD>', '<PAD>', '<PAD>', '<PAD>', '<PAD>', '<PAD>', '<PAD>', '<PAD>', '<PAD>', '<PAD>', '<PAD>', '<PAD>', '<PAD>', '<PAD>', '<PAD>', '<PAD>', '<PAD>', '<PAD>', '<PAD>', '<PAD>', '<PAD>', '<PAD>', '<PAD>', '<PAD>', '<PAD>', '<PAD>', '<PAD>', '<PAD>', '<PAD>', '<PAD>', '<PAD>', '<PAD>', '<PAD>', '<PAD>', '<PAD>', '<PAD>', '<PAD>', '<PAD>', '<PAD>', '<PAD>', '<PAD>', '<PAD>', '<PAD>', '<PAD>', '<PAD>', '<PAD>', '<PAD>', '<PAD>', '<PAD>', '<PAD>', '<PAD>', '<PAD>', '<PAD>', '<PAD>', '<PAD>', '<PAD>', '<PAD>', '<PAD>', '<PAD>', '<PAD>', '<PAD>', '<PAD>', '<PAD>', '<PAD>', '<PAD>', '<PAD>', '<PAD>', '<PAD>', '<PAD>', '<PAD>', '<PAD>', '<PAD>', '<PAD>', '<PAD>', '<PAD>', '<PAD>', '<PAD>', '<PAD>', '<PAD>', '<PAD>', '<PAD>', '<PAD>', '<PAD>', '<PAD>', '<PAD>', '<PAD>', '<PAD>', '<PAD>', '<PAD>', '<PAD>', '<PAD>', '<PAD>', '<PAD>', '<PAD>', '<PAD>', '<PAD>', '<PAD>', '<PAD>', '<PAD>', '<PAD>', '<PAD>', '<PAD>', '<PAD>', '<PAD>', '<PAD>', '<PAD>', '<PAD>', '<PAD>', '<PAD>', '<PAD>', '<PAD>', '<PAD>', '<PAD>', '<PAD>', '<PAD>', '<PAD>', '<PAD>', '<PAD>', '<PAD>', '<PAD>', '<PAD>', '<PAD>', '<PAD>', '<PAD>', '<PAD>', '<PAD>', '<PAD>', '<PAD>', '<PAD>', '<PAD>', '<PAD>', '<PAD>', '<PAD>', '<PAD>', '<PAD>', '<PAD>', '<PAD>', '<PAD>', '<PAD>', '<PAD>', '<PAD>', '<PAD>', '<PAD>', '<PAD>', '<PAD>', '<PAD>', '<PAD>', '<PAD>', '<PAD>', '<PAD>', '<PAD>', '<PAD>', '<PAD>', '<PAD>', '<PAD>', '<PAD>', '<PAD>', '<PAD>', '<PAD>', '<PAD>', '<PAD>', '<PAD>', '<PAD>', '<PAD>', '<PAD>', '<PAD>', '<PAD>', '<PAD>', '<PAD>', '<PAD>', '<PAD>', '<PAD>', '<PAD>', '<PAD>', '<PAD>', '<PAD>', '<PAD>', '<PAD>', '<PAD>', '<PAD>', '<PAD>', '<PAD>', '<PAD>', '<PAD>', '<PAD>', '<PAD>', '<PAD>', '<PAD>', '<PAD>', '<PAD>', '<PAD>', '<PAD>', '<PAD>', '<PAD>', '<PAD>', '<PAD>', '<PAD>', '<PAD>', '<PAD>', '<PAD>', '<PAD>', '<PAD>', '<PAD>', '<PAD>', '<PAD>', '<PAD>', '<PAD>', '<PAD>', '<PAD>', '<PAD>', '<PAD>', '<PAD>', '<PAD>', '<PAD>', '<PAD>', '<PAD>', '<PAD>', '<PAD>', '<PAD>', '<PAD>', '<PAD>', '<PAD>', '<PAD>', '<PAD>', '<PAD>', '<PAD>', '<PAD>', '<PAD>', '<PAD>', '<PAD>', '<PAD>', '<PAD>', '<PAD>', '<PAD>', '<PAD>', '<PAD>', '<PAD>', '<PAD>', '<PAD>', '<PAD>', '<PAD>', '<PAD>', '<PAD>', '<PAD>', '<PAD>', '<PAD>', '<PAD>', '<PAD>', '<PAD>', '<PAD>', '<PAD>', '<PAD>', '<PAD>', '<PAD>', '<PAD>', '<PAD>', '<PAD>', '<PAD>', '<PAD>', '<PAD>', '<PAD>', '<PAD>', '<PAD>', '<PAD>', '<PAD>', '<PAD>', '<PAD>', '<PAD>', '<PAD>', '<PAD>', '<PAD>', '<PAD>', '<PAD>', '<PAD>', '<PAD>', '<PAD>', '<PAD>', '<PAD>', '<PAD>', '<PAD>', '<PAD>', '<PAD>', '<PAD>', '<PAD>', '<PAD>', '<PAD>', '<PAD>', '<PAD>', '<PAD>', '<PAD>', '<PAD>', '<PAD>', '<PAD>', '<PAD>', '<PAD>', '<PAD>', '<PAD>', '<PAD>', '<PAD>', '<PAD>', '<PAD>', '<PAD>', '<PAD>', '<PAD>', '<PAD>', '<PAD>', '<PAD>', '<PAD>', '<PAD>', '<PAD>', '<PAD>', '<PAD>', '<PAD>', '<PAD>', '<PAD>', '<PAD>', '<PAD>', '<PAD>', '<PAD>', '<PAD>', '<PAD>', '<PAD>', '<PAD>', '<PAD>', '<PAD>', '<PAD>', '<PAD>', '<PAD>', '<PAD>', '<PAD>', '<PAD>', '<PAD>', '<PAD>', '<PAD>', '<PAD>', '<PAD>', '<PAD>', '<PAD>', '<PAD>', '<PAD>', '<PAD>', '<PAD>', '<PAD>', '<PAD>', '<PAD>', '<PAD>', '<PAD>', '<PAD>', '<PAD>', '<PAD>', '<PAD>', '<PAD>', '<PAD>', '<PAD>', '<PAD>', '<PAD>', '<PAD>', '<PAD>', '<PAD>', '<PAD>', '<PAD>', '<PAD>', '<PAD>', '<PAD>', '<PAD>', '<PAD>', '<PAD>', '<PAD>', '<PAD>', '<PAD>', '<PAD>', '<PAD>', '<PAD>', '<PAD>', '<PAD>', '<PAD>', '<PAD>', '<PAD>', '<PAD>', '<PAD>', '<PAD>', '<PAD>', '<PAD>', '<PAD>', '<PAD>', '<PAD>', '<PAD>', '<PAD>', '<PAD>', '<PAD>', '<PAD>', '<PAD>', '<PAD>', '<PAD>', '<PAD>', '<PAD>', '<PAD>', '<PAD>', '<PAD>', '<PAD>', '<PAD>', '<PAD>', '<PAD>', '<PAD>', '<PAD>', '<PAD>', '<PAD>', '<PAD>', '<PAD>', '<PAD>', '<PAD>', '<PAD>', '<PAD>', '<PAD>', '<PAD>', '<PAD>', '<PAD>', '<PAD>', '<PAD>', '<PAD>', '<PAD>', '<PAD>', '<PAD>', '<PAD>', '<PAD>', '<PAD>', '<PAD>', '<PAD>', '<PAD>', '<PAD>', '<PAD>', '<PAD>', '<PAD>', '<PAD>', '<PAD>', '<PAD>', '<PAD>', '<PAD>', '<PAD>', '<PAD>', '<PAD>', '<PAD>', '<PAD>', '<PAD>', '<PAD>', '<PAD>', '<PAD>', '<PAD>', '<PAD>', '<PAD>', '<PAD>', '<PAD>', '<PAD>', '<PAD>', '<PAD>', '<PAD>', '<PAD>', '<PAD>', '<PAD>', '<PAD>', '<PAD>', '<PAD>', '<PAD>', '<PAD>', '<PAD>', '<PAD>', '<PAD>', '<PAD>', '<PAD>', '<PAD>', '<PAD>', '<PAD>', '<PAD>', '<PAD>', '<PAD>', '<PAD>', '<PAD>', '<PAD>', '<PAD>', '<PAD>', '<PAD>', '<PAD>', '<PAD>', '<PAD>', '<PAD>', '<PAD>', '<PAD>', '<PAD>', '<PAD>', '<PAD>', '<PAD>', '<PAD>', '<PAD>', '<PAD>', '<PAD>', '<PAD>', '<PAD>', '<PAD>', '<PAD>', '<PAD>', '<PAD>', '<PAD>', '<PAD>', '<PAD>', '<PAD>', '<PAD>', '<PAD>', '<PAD>', '<PAD>', '<PAD>', '<PAD>', '<PAD>', '<PAD>', '<PAD>', '<PAD>', '<PAD>', '<PAD>', '<PAD>', '<PAD>', '<PAD>', '<PAD>', '<PAD>', '<PAD>', '<PAD>', '<PAD>', '<PAD>', '<PAD>', '<PAD>', '<PAD>', '<PAD>', '<PAD>', '<PAD>', '<PAD>', '<PAD>', '<PAD>', '<PAD>', '<PAD>', '<PAD>', '<PAD>', '<PAD>', '<PAD>', '<PAD>', '<PAD>', '<PAD>', '<PAD>', '<PAD>', '<PAD>', '<PAD>', '<PAD>', '<PAD>', '<PAD>', '<PAD>', '<PAD>', '<PAD>', '<PAD>', '<PAD>', '<PAD>', '<PAD>', '<PAD>', '<PAD>', '<PAD>', '<PAD>', '<PAD>', '<PAD>', '<PAD>', '<PAD>', '<PAD>', '<PAD>', '<PAD>', '<PAD>', '<PAD>', '<PAD>', '<PAD>', '<PAD>', '<PAD>', '<PAD>', '<PAD>', '<PAD>', '<PAD>', '<PAD>', '<PAD>', '<PAD>', '<PAD>', '<PAD>', '<PAD>', '<PAD>', '<PAD>', '<PAD>', '<PAD>', '<PAD>', '<PAD>', '<PAD>', '<PAD>', '<PAD>', '<PAD>', '<PAD>', '<PAD>', '<PAD>', '<PAD>', '<PAD>', '<PAD>', '<PAD>', '<PAD>', '<PAD>', '<PAD>', '<PAD>', '<PAD>', '<PAD>', '<PAD>', '<PAD>', '<PAD>', '<PAD>', '<PAD>', '<PAD>', '<PAD>', '<PAD>', '<PAD>', '<PAD>', '<PAD>', '<PAD>', '<PAD>', '<PAD>', '<PAD>', '<PAD>', '<PAD>', '<PAD>', '<PAD>', '<PAD>', '<PAD>', '<PAD>', '<PAD>', '<PAD>', '<PAD>', '<PAD>', '<PAD>', '<PAD>', '<PAD>', '<PAD>', '<PAD>', '<PAD>', '<PAD>', '<PAD>', '<PAD>', '<PAD>', '<PAD>', '<PAD>', '<PAD>', '<PAD>', '<PAD>', '<PAD>', '<PAD>', '<PAD>', '<PAD>', '<PAD>', '<PAD>', '<PAD>', '<PAD>', '<PAD>', '<PAD>', '<PAD>', '<PAD>', '<PAD>', '<PAD>', '<PAD>', '<PAD>', '<PAD>', '<PAD>', '<PAD>', '<PAD>', '<PAD>', '<PAD>', '<PAD>', '<PAD>', '<PAD>', '<PAD>', '<PAD>', '<PAD>', '<PAD>', '<PAD>', '<PAD>', '<PAD>', '<PAD>', '<PAD>', '<PAD>', '<PAD>', '<PAD>', '<PAD>', '<PAD>', '<PAD>', '<PAD>', '<PAD>', '<PAD>', '<PAD>', '<PAD>', '<PAD>', '<PAD>', '<PAD>', '<PAD>', '<PAD>', '<PAD>', '<PAD>', '<PAD>', '<PAD>', '<PAD>', '<PAD>', '<PAD>', '<PAD>', '<PAD>', '<PAD>', '<PAD>', '<PAD>', '<PAD>', '<PAD>', '<PAD>', '<PAD>', '<PAD>', '<PAD>', '<PAD>', '<PAD>', '<PAD>', '<PAD>', '<PAD>', '<PAD>', '<PAD>', '<PAD>', '<PAD>', '<PAD>', '<PAD>', '<PAD>', '<PAD>', '<PAD>', '<PAD>', '<PAD>', '<PAD>', '<PAD>', '<PAD>', '<PAD>', '<PAD>', '<PAD>', '<PAD>', '<PAD>', '<PAD>', '<PAD>', '<PAD>', '<PAD>', '<PAD>', '<PAD>', '<PAD>', '<PAD>', '<PAD>', '<PAD>', '<PAD>', '<PAD>', '<PAD>', '<PAD>', '<PAD>', '<PAD>', '<PAD>', '<PAD>', '<PAD>', '<PAD>', '<PAD>', '<PAD>', '<PAD>', '<PAD>', '<PAD>', '<PAD>', '<PAD>', '<PAD>', '<PAD>', '<PAD>', '<PAD>', '<PAD>', '<PAD>', '<PAD>', '<PAD>', '<PAD>', '<PAD>', '<PAD>', '<PAD>', '<PAD>', '<PAD>', '<PAD>', '<PAD>', '<PAD>', '<PAD>', '<PAD>', '<PAD>', '<PAD>', '<PAD>', '<PAD>', '<PAD>', '<PAD>', '<PAD>', '<PAD>', '<PAD>', '<PAD>', '<PAD>', '<PAD>', '<PAD>', '<PAD>', '<PAD>', '<PAD>', '<PAD>', '<PAD>', '<PAD>', '<PAD>', '<PAD>', '<PAD>', '<PAD>', '<PAD>', '<PAD>', '<PAD>', '<PAD>', '<PAD>', '<PAD>', '<PAD>', '<PAD>', '<PAD>', '<PAD>', '<PAD>', '<PAD>', '<PAD>', '<PAD>', '<PAD>', '<PAD>', '<PAD>', '<PAD>', '<PAD>', '<PAD>', '<PAD>', '<PAD>', '<PAD>', '<PAD>', '<PAD>', '<PAD>', '<PAD>', '<PAD>', '<PAD>', '<PAD>', '<PAD>', '<PAD>', '<PAD>', '<PAD>', '<PAD>', '<PAD>', '<PAD>', '<PAD>', '<PAD>', '<PAD>', '<PAD>', '<PAD>', '<PAD>', '<PAD>', '<PAD>', '<PAD>', '<PAD>', '<PAD>', '<PAD>', '<PAD>', '<PAD>', '<PAD>', '<PAD>', '<PAD>', '<PAD>', '<PAD>', '<PAD>', '<PAD>', '<PAD>', '<PAD>', '<PAD>', '<PAD>', '<PAD>', '<PAD>', '<PAD>', '<PAD>', '<PAD>', '<PAD>', '<PAD>', '<PAD>', '<PAD>', '<PAD>', '<PAD>', '<PAD>', '<PAD>', '<PAD>', '<PAD>', '<PAD>', '<PAD>', '<PAD>', '<PAD>', '<PAD>', '<PAD>', '<PAD>', '<PAD>', '<PAD>', '<PAD>', '<PAD>', '<PAD>', '<PAD>', '<PAD>', '<PAD>', '<PAD>', '<PAD>', '<PAD>', '<PAD>', '<PAD>', '<PAD>', '<PAD>', '<PAD>', '<PAD>', '<PAD>', '<PAD>', '<PAD>', '<PAD>', '<PAD>', '<PAD>', '<PAD>', '<PAD>', '<PAD>', '<PAD>', '<PAD>', '<PAD>', '<PAD>', '<PAD>', '<PAD>', '<PAD>', '<PAD>', '<PAD>', '<PAD>', '<PAD>', '<PAD>', '<PAD>', '<PAD>', '<PAD>', '<PAD>', '<PAD>', '<PAD>', '<PAD>', '<PAD>', '<PAD>', '<PAD>', '<PAD>', '<PAD>', '<PAD>', '<PAD>', '<PAD>', '<PAD>', '<PAD>', '<PAD>', '<PAD>', '<PAD>', '<PAD>', '<PAD>', '<PAD>', '<PAD>', '<PAD>', '<PAD>', '<PAD>', '<PAD>', '<PAD>', '<PAD>', '<PAD>', '<PAD>', '<PAD>', '<PAD>', '<PAD>', '<PAD>', '<PAD>', '<PAD>', '<PAD>', '<PAD>', '<PAD>', '<PAD>', '<PAD>', '<PAD>', '<PAD>', '<PAD>', '<PAD>', '<PAD>', '<PAD>', '<PAD>', '<PAD>', '<PAD>', '<PAD>', '<PAD>', '<PAD>', '<PAD>', '<PAD>', '<PAD>', '<PAD>', '<PAD>', '<PAD>', '<PAD>', '<PAD>', '<PAD>', '<PAD>', '<PAD>', '<PAD>', '<PAD>', '<PAD>', '<PAD>', '<PAD>', '<PAD>', '<PAD>', '<PAD>', 'this', 'was', 'the', 'first', 'sequel', \"i'd\", 'seen', 'apart', 'from', 'return', 'of', 'jafar', 'and', 'i', 'honestly', 'thought', 'before', 'watching', 'it', 'that', 'it', 'would', 'be', 'close', 'to', 'the', 'original', 'i', 'was', 'horribly', 'disappointed', 'br', 'br', 'the', 'storyline', 'was', 'basically', 'the', 'first', 'script', 'with', 'a', 'few', 'extra', 'characters', 'and', 'the', 'situation', 'turned', 'around', 'ariel', 'and', 'eric', 'have', 'a', 'daughter', 'melody', 'who', \"isn't\", 'satisfied', 'with', 'life', 'on', 'land', 'she', 'wants', 'to', 'become', 'a', 'mermaid', 'however', 'ariel', 'has', 'kept', 'her', 'past', 'from', 'her', 'daughter', 'because', 'she', 'wants', 'to', 'protect', 'her', 'and', 'when', 'melody', 'finds', 'out', \"she's\", 'upset', 'and', 'angry', 'and', 'she', 'then', 'decides', 'to', 'run', 'away', 'and', 'she', 'becomes', 'a', 'mermaid', 'so', \"she's\", 'happy', 'swimming', 'around', 'and', 'ariel', 'sets', 'out', 'to', 'find', 'her', 'as', 'a', 'mermaid', 'br', 'br', 'the', 'story', \"doesn't\", 'sound', 'too', 'bad', 'written', 'down', 'but', 'the', 'clichés', 'and', 'repeats', 'of', 'situations', 'from', 'the', 'first', 'movie', 'are', 'just', 'too', 'obvious', 'and', 'adding', 'the', 'fact', 'that', 'melody', 'is', 'overall', 'extremely', 'annoying', 'and', 'the', 'movie', 'becomes', 'almost', 'unbearable', 'br', 'br', \"there's\", 'also', 'a', 'whole', 'load', 'of', 'other', 'new', 'characters', 'tip', 'and', 'dash', 'being', 'two', 'of', 'them', 'they', \"aren't\", 'too', 'bad', 'as', 'characters', 'in', 'themselves', 'just', 'try', 'not', 'to', 'think', 'of', 'timon', 'or', 'pumbaa', 'the', 'songs', 'leave', 'a', 'lot', 'to', 'be', 'desired', 'too', 'they', 'just', \"don't\", 'have', 'the', 'same', 'magical', 'energy', 'as', 'the', 'songs', 'from', 'the', 'original', 'did', 'the', 'animation', 'obviously', \"didn't\", 'have', 'a', 'whole', 'load', 'of', 'work', 'put', 'into', 'it', 'either', 'in', 'parts', \"it's\", 'jumpy', 'and', 'not', 'much', 'imagination', 'is', 'used', 'for', 'the', 'characters', 'movements', 'br', 'br', 'another', 'piece', 'of', 'advice', 'try', 'to', 'forget', 'about', \"ariel's\", 'original', 'character', 'while', 'watching', 'this', 'movie', 'the', 'beautiful', 'rebellious', 'curious', 'teenager', 'has', \"'all\", 'grown', \"up'\", 'into', 'a', 'bland', 'boring', 'wife', 'and', 'mother', 'and', 'her', 'trademark', 'red', 'hair', 'is', 'all', 'tied', 'up', 'this', 'is', 'much', 'better', 'viewed', 'if', \"you've\", 'never', 'seen', 'the', 'original', \"you'll\", 'have', 'nothing', 'to', 'compare', 'it', 'to', 'br', 'br', 'however', 'all', 'in', 'all', 'it', 'could', 'have', 'been', 'worse', \"it's\", 'not', 'as', 'bad', 'as', 'certain', 'other', 'sequels', 'such', 'as', 'cinderella', 'ii', 'but', \"it's\", 'not', 'in', 'the', 'same', 'league', 'as', 'the', 'original', 'but', 'it', 'for', 'your', 'collection', 'if', 'nothing', 'else', 'but', 'if', 'disney', 'go', 'on', 'like', 'this', \"they'll\", 'lose', 'all', 'their', 'older', 'fans']\n"
     ]
    }
   ],
   "source": [
    "print([tokenizer.index_word.get(item, '<PAD>') for item in train_data[0]])"
   ]
  },
  {
   "cell_type": "code",
   "execution_count": 54,
   "id": "97ce29bb-604b-456a-8d4c-b76e908bdd08",
   "metadata": {},
   "outputs": [],
   "source": [
    "vocabulary = KeyedVectors.load('./Distributional Semantics/codes/wiki-countries.w2v')"
   ]
  },
  {
   "cell_type": "code",
   "execution_count": 55,
   "id": "703aa4d6-fac9-4398-bf23-2abaef093623",
   "metadata": {},
   "outputs": [
    {
     "name": "stderr",
     "output_type": "stream",
     "text": [
      "/Users/suyashkumarsingh/.pyenv/versions/tensorflow/lib/python3.11/site-packages/keras/src/layers/core/embedding.py:90: UserWarning: Argument `input_length` is deprecated. Just remove it.\n",
      "  warnings.warn(\n"
     ]
    }
   ],
   "source": [
    "embedding = utils.make_embedding_layer(vocabulary, tokenizer, MAX_SEQUENCE_LENGTH)"
   ]
  },
  {
   "cell_type": "code",
   "execution_count": 56,
   "id": "57e8b865-2fb3-4785-99a3-ea9175003c48",
   "metadata": {},
   "outputs": [],
   "source": [
    "countries_wiki_model = Sequential([\n",
    "    Input(shape=(MAX_SEQUENCE_LENGTH,), dtype='int32'),\n",
    "    embedding,\n",
    "    GlobalAveragePooling1D(),\n",
    "    Dense(128, activation='relu'),\n",
    "    Dense(64, activation='relu'),\n",
    "    Dense(1, activation='sigmoid')\n",
    "])\n",
    "countries_wiki_model.compile(loss='binary_crossentropy', optimizer=Adam(), metrics=['accuracy'])"
   ]
  },
  {
   "cell_type": "code",
   "execution_count": 57,
   "id": "c2bb3d3c-8167-4c20-a0cc-b3c15e498eac",
   "metadata": {},
   "outputs": [
    {
     "name": "stdout",
     "output_type": "stream",
     "text": [
      "Epoch 1/30\n",
      "\u001b[1m391/391\u001b[0m \u001b[32m━━━━━━━━━━━━━━━━━━━━\u001b[0m\u001b[37m\u001b[0m \u001b[1m3s\u001b[0m 8ms/step - accuracy: 0.6296 - loss: 0.6522 - val_accuracy: 0.7046 - val_loss: 0.5834\n",
      "Epoch 2/30\n",
      "\u001b[1m391/391\u001b[0m \u001b[32m━━━━━━━━━━━━━━━━━━━━\u001b[0m\u001b[37m\u001b[0m \u001b[1m3s\u001b[0m 7ms/step - accuracy: 0.7091 - loss: 0.5704 - val_accuracy: 0.7237 - val_loss: 0.5549\n",
      "Epoch 3/30\n",
      "\u001b[1m391/391\u001b[0m \u001b[32m━━━━━━━━━━━━━━━━━━━━\u001b[0m\u001b[37m\u001b[0m \u001b[1m3s\u001b[0m 7ms/step - accuracy: 0.7332 - loss: 0.5391 - val_accuracy: 0.7205 - val_loss: 0.5515\n",
      "Epoch 4/30\n",
      "\u001b[1m391/391\u001b[0m \u001b[32m━━━━━━━━━━━━━━━━━━━━\u001b[0m\u001b[37m\u001b[0m \u001b[1m3s\u001b[0m 7ms/step - accuracy: 0.7340 - loss: 0.5280 - val_accuracy: 0.7282 - val_loss: 0.5409\n",
      "Epoch 5/30\n",
      "\u001b[1m391/391\u001b[0m \u001b[32m━━━━━━━━━━━━━━━━━━━━\u001b[0m\u001b[37m\u001b[0m \u001b[1m3s\u001b[0m 7ms/step - accuracy: 0.7399 - loss: 0.5210 - val_accuracy: 0.7362 - val_loss: 0.5279\n",
      "Epoch 6/30\n",
      "\u001b[1m391/391\u001b[0m \u001b[32m━━━━━━━━━━━━━━━━━━━━\u001b[0m\u001b[37m\u001b[0m \u001b[1m3s\u001b[0m 7ms/step - accuracy: 0.7406 - loss: 0.5208 - val_accuracy: 0.7290 - val_loss: 0.5339\n",
      "Epoch 7/30\n",
      "\u001b[1m391/391\u001b[0m \u001b[32m━━━━━━━━━━━━━━━━━━━━\u001b[0m\u001b[37m\u001b[0m \u001b[1m3s\u001b[0m 7ms/step - accuracy: 0.7444 - loss: 0.5151 - val_accuracy: 0.7414 - val_loss: 0.5237\n",
      "Epoch 8/30\n",
      "\u001b[1m391/391\u001b[0m \u001b[32m━━━━━━━━━━━━━━━━━━━━\u001b[0m\u001b[37m\u001b[0m \u001b[1m3s\u001b[0m 7ms/step - accuracy: 0.7512 - loss: 0.5078 - val_accuracy: 0.7250 - val_loss: 0.5400\n",
      "Epoch 9/30\n",
      "\u001b[1m391/391\u001b[0m \u001b[32m━━━━━━━━━━━━━━━━━━━━\u001b[0m\u001b[37m\u001b[0m \u001b[1m3s\u001b[0m 7ms/step - accuracy: 0.7517 - loss: 0.5038 - val_accuracy: 0.7352 - val_loss: 0.5281\n",
      "Epoch 10/30\n",
      "\u001b[1m391/391\u001b[0m \u001b[32m━━━━━━━━━━━━━━━━━━━━\u001b[0m\u001b[37m\u001b[0m \u001b[1m3s\u001b[0m 7ms/step - accuracy: 0.7486 - loss: 0.5057 - val_accuracy: 0.7283 - val_loss: 0.5392\n",
      "Epoch 11/30\n",
      "\u001b[1m391/391\u001b[0m \u001b[32m━━━━━━━━━━━━━━━━━━━━\u001b[0m\u001b[37m\u001b[0m \u001b[1m3s\u001b[0m 7ms/step - accuracy: 0.7502 - loss: 0.5054 - val_accuracy: 0.7398 - val_loss: 0.5211\n",
      "Epoch 12/30\n",
      "\u001b[1m391/391\u001b[0m \u001b[32m━━━━━━━━━━━━━━━━━━━━\u001b[0m\u001b[37m\u001b[0m \u001b[1m3s\u001b[0m 7ms/step - accuracy: 0.7572 - loss: 0.4970 - val_accuracy: 0.7373 - val_loss: 0.5242\n",
      "Epoch 13/30\n",
      "\u001b[1m391/391\u001b[0m \u001b[32m━━━━━━━━━━━━━━━━━━━━\u001b[0m\u001b[37m\u001b[0m \u001b[1m3s\u001b[0m 7ms/step - accuracy: 0.7527 - loss: 0.4987 - val_accuracy: 0.7454 - val_loss: 0.5171\n",
      "Epoch 14/30\n",
      "\u001b[1m391/391\u001b[0m \u001b[32m━━━━━━━━━━━━━━━━━━━━\u001b[0m\u001b[37m\u001b[0m \u001b[1m3s\u001b[0m 7ms/step - accuracy: 0.7563 - loss: 0.4950 - val_accuracy: 0.7411 - val_loss: 0.5191\n",
      "Epoch 15/30\n",
      "\u001b[1m391/391\u001b[0m \u001b[32m━━━━━━━━━━━━━━━━━━━━\u001b[0m\u001b[37m\u001b[0m \u001b[1m3s\u001b[0m 7ms/step - accuracy: 0.7547 - loss: 0.4926 - val_accuracy: 0.7454 - val_loss: 0.5180\n",
      "Epoch 16/30\n",
      "\u001b[1m391/391\u001b[0m \u001b[32m━━━━━━━━━━━━━━━━━━━━\u001b[0m\u001b[37m\u001b[0m \u001b[1m3s\u001b[0m 7ms/step - accuracy: 0.7596 - loss: 0.4899 - val_accuracy: 0.7315 - val_loss: 0.5346\n",
      "Epoch 17/30\n",
      "\u001b[1m391/391\u001b[0m \u001b[32m━━━━━━━━━━━━━━━━━━━━\u001b[0m\u001b[37m\u001b[0m \u001b[1m3s\u001b[0m 7ms/step - accuracy: 0.7588 - loss: 0.4932 - val_accuracy: 0.7410 - val_loss: 0.5212\n",
      "Epoch 18/30\n",
      "\u001b[1m391/391\u001b[0m \u001b[32m━━━━━━━━━━━━━━━━━━━━\u001b[0m\u001b[37m\u001b[0m \u001b[1m3s\u001b[0m 7ms/step - accuracy: 0.7614 - loss: 0.4871 - val_accuracy: 0.7262 - val_loss: 0.5354\n",
      "Epoch 19/30\n",
      "\u001b[1m391/391\u001b[0m \u001b[32m━━━━━━━━━━━━━━━━━━━━\u001b[0m\u001b[37m\u001b[0m \u001b[1m3s\u001b[0m 7ms/step - accuracy: 0.7668 - loss: 0.4762 - val_accuracy: 0.7435 - val_loss: 0.5182\n",
      "Epoch 20/30\n",
      "\u001b[1m391/391\u001b[0m \u001b[32m━━━━━━━━━━━━━━━━━━━━\u001b[0m\u001b[37m\u001b[0m \u001b[1m3s\u001b[0m 7ms/step - accuracy: 0.7663 - loss: 0.4822 - val_accuracy: 0.7419 - val_loss: 0.5195\n",
      "Epoch 21/30\n",
      "\u001b[1m391/391\u001b[0m \u001b[32m━━━━━━━━━━━━━━━━━━━━\u001b[0m\u001b[37m\u001b[0m \u001b[1m3s\u001b[0m 7ms/step - accuracy: 0.7685 - loss: 0.4821 - val_accuracy: 0.7405 - val_loss: 0.5193\n",
      "Epoch 22/30\n",
      "\u001b[1m391/391\u001b[0m \u001b[32m━━━━━━━━━━━━━━━━━━━━\u001b[0m\u001b[37m\u001b[0m \u001b[1m3s\u001b[0m 7ms/step - accuracy: 0.7713 - loss: 0.4783 - val_accuracy: 0.7458 - val_loss: 0.5216\n",
      "Epoch 23/30\n",
      "\u001b[1m391/391\u001b[0m \u001b[32m━━━━━━━━━━━━━━━━━━━━\u001b[0m\u001b[37m\u001b[0m \u001b[1m3s\u001b[0m 7ms/step - accuracy: 0.7677 - loss: 0.4734 - val_accuracy: 0.7435 - val_loss: 0.5200\n",
      "Epoch 24/30\n",
      "\u001b[1m391/391\u001b[0m \u001b[32m━━━━━━━━━━━━━━━━━━━━\u001b[0m\u001b[37m\u001b[0m \u001b[1m3s\u001b[0m 7ms/step - accuracy: 0.7812 - loss: 0.4632 - val_accuracy: 0.7437 - val_loss: 0.5179\n",
      "Epoch 25/30\n",
      "\u001b[1m391/391\u001b[0m \u001b[32m━━━━━━━━━━━━━━━━━━━━\u001b[0m\u001b[37m\u001b[0m \u001b[1m3s\u001b[0m 7ms/step - accuracy: 0.7782 - loss: 0.4657 - val_accuracy: 0.7253 - val_loss: 0.5449\n",
      "Epoch 26/30\n",
      "\u001b[1m391/391\u001b[0m \u001b[32m━━━━━━━━━━━━━━━━━━━━\u001b[0m\u001b[37m\u001b[0m \u001b[1m3s\u001b[0m 7ms/step - accuracy: 0.7720 - loss: 0.4695 - val_accuracy: 0.7331 - val_loss: 0.5461\n",
      "Epoch 27/30\n",
      "\u001b[1m391/391\u001b[0m \u001b[32m━━━━━━━━━━━━━━━━━━━━\u001b[0m\u001b[37m\u001b[0m \u001b[1m3s\u001b[0m 7ms/step - accuracy: 0.7707 - loss: 0.4654 - val_accuracy: 0.7421 - val_loss: 0.5221\n",
      "Epoch 28/30\n",
      "\u001b[1m391/391\u001b[0m \u001b[32m━━━━━━━━━━━━━━━━━━━━\u001b[0m\u001b[37m\u001b[0m \u001b[1m3s\u001b[0m 7ms/step - accuracy: 0.7798 - loss: 0.4565 - val_accuracy: 0.7432 - val_loss: 0.5212\n",
      "Epoch 29/30\n",
      "\u001b[1m391/391\u001b[0m \u001b[32m━━━━━━━━━━━━━━━━━━━━\u001b[0m\u001b[37m\u001b[0m \u001b[1m3s\u001b[0m 7ms/step - accuracy: 0.7822 - loss: 0.4536 - val_accuracy: 0.7368 - val_loss: 0.5343\n",
      "Epoch 30/30\n",
      "\u001b[1m391/391\u001b[0m \u001b[32m━━━━━━━━━━━━━━━━━━━━\u001b[0m\u001b[37m\u001b[0m \u001b[1m3s\u001b[0m 7ms/step - accuracy: 0.7800 - loss: 0.4591 - val_accuracy: 0.7445 - val_loss: 0.5282\n"
     ]
    }
   ],
   "source": [
    "countries_wiki_history = countries_wiki_model.fit(\n",
    "    train_data, df_train['label'].values,\n",
    "    validation_data=(test_data, xts['label'].values),\n",
    "    batch_size=64, epochs=30\n",
    ")"
   ]
  },
  {
   "cell_type": "code",
   "execution_count": 58,
   "id": "195c3197-2d6d-4c6f-9402-d0ec40ff63ba",
   "metadata": {
    "editable": true,
    "slideshow": {
     "slide_type": ""
    },
    "tags": []
   },
   "outputs": [],
   "source": [
    "vocabulary_glove = KeyedVectors.load_word2vec_format('glove.6B/glove.6B.300d.txt', binary=False, no_header=True)"
   ]
  },
  {
   "cell_type": "code",
   "execution_count": 59,
   "id": "1263c435-917a-4e32-8d64-4adf17acd42c",
   "metadata": {},
   "outputs": [],
   "source": [
    "embedding = utils.make_embedding_layer(vocabulary_glove, tokenizer, MAX_SEQUENCE_LENGTH)"
   ]
  },
  {
   "cell_type": "code",
   "execution_count": 60,
   "id": "e67b5a10-c7f8-4c4e-9bf7-5e12d49d39eb",
   "metadata": {},
   "outputs": [],
   "source": [
    "glove_wiki_model = Sequential([\n",
    "    Input(shape=(MAX_SEQUENCE_LENGTH,), dtype='int32'),\n",
    "    embedding,\n",
    "    GlobalAveragePooling1D(),\n",
    "    Dense(128, activation='relu'),\n",
    "    Dense(64, activation='relu'),\n",
    "    Dense(1, activation='sigmoid')\n",
    "])\n",
    "glove_wiki_model.compile(loss='binary_crossentropy', optimizer=Adam(), metrics=['accuracy'])"
   ]
  },
  {
   "cell_type": "code",
   "execution_count": 61,
   "id": "ca14b111-b2ef-429a-9fb9-88bda95a09d2",
   "metadata": {},
   "outputs": [
    {
     "name": "stdout",
     "output_type": "stream",
     "text": [
      "Epoch 1/30\n",
      "\u001b[1m391/391\u001b[0m \u001b[32m━━━━━━━━━━━━━━━━━━━━\u001b[0m\u001b[37m\u001b[0m \u001b[1m11s\u001b[0m 28ms/step - accuracy: 0.6425 - loss: 0.6367 - val_accuracy: 0.7790 - val_loss: 0.4909\n",
      "Epoch 2/30\n",
      "\u001b[1m391/391\u001b[0m \u001b[32m━━━━━━━━━━━━━━━━━━━━\u001b[0m\u001b[37m\u001b[0m \u001b[1m11s\u001b[0m 28ms/step - accuracy: 0.8034 - loss: 0.4585 - val_accuracy: 0.8219 - val_loss: 0.4200\n",
      "Epoch 3/30\n",
      "\u001b[1m391/391\u001b[0m \u001b[32m━━━━━━━━━━━━━━━━━━━━\u001b[0m\u001b[37m\u001b[0m \u001b[1m11s\u001b[0m 28ms/step - accuracy: 0.8191 - loss: 0.4178 - val_accuracy: 0.8245 - val_loss: 0.4049\n",
      "Epoch 4/30\n",
      "\u001b[1m391/391\u001b[0m \u001b[32m━━━━━━━━━━━━━━━━━━━━\u001b[0m\u001b[37m\u001b[0m \u001b[1m11s\u001b[0m 28ms/step - accuracy: 0.8246 - loss: 0.4018 - val_accuracy: 0.8328 - val_loss: 0.3856\n",
      "Epoch 5/30\n",
      "\u001b[1m391/391\u001b[0m \u001b[32m━━━━━━━━━━━━━━━━━━━━\u001b[0m\u001b[37m\u001b[0m \u001b[1m11s\u001b[0m 28ms/step - accuracy: 0.8340 - loss: 0.3856 - val_accuracy: 0.8315 - val_loss: 0.3806\n",
      "Epoch 6/30\n",
      "\u001b[1m391/391\u001b[0m \u001b[32m━━━━━━━━━━━━━━━━━━━━\u001b[0m\u001b[37m\u001b[0m \u001b[1m11s\u001b[0m 28ms/step - accuracy: 0.8318 - loss: 0.3855 - val_accuracy: 0.8320 - val_loss: 0.3869\n",
      "Epoch 7/30\n",
      "\u001b[1m391/391\u001b[0m \u001b[32m━━━━━━━━━━━━━━━━━━━━\u001b[0m\u001b[37m\u001b[0m \u001b[1m11s\u001b[0m 28ms/step - accuracy: 0.8308 - loss: 0.3796 - val_accuracy: 0.8301 - val_loss: 0.3742\n",
      "Epoch 8/30\n",
      "\u001b[1m391/391\u001b[0m \u001b[32m━━━━━━━━━━━━━━━━━━━━\u001b[0m\u001b[37m\u001b[0m \u001b[1m11s\u001b[0m 28ms/step - accuracy: 0.8352 - loss: 0.3706 - val_accuracy: 0.8392 - val_loss: 0.3679\n",
      "Epoch 9/30\n",
      "\u001b[1m391/391\u001b[0m \u001b[32m━━━━━━━━━━━━━━━━━━━━\u001b[0m\u001b[37m\u001b[0m \u001b[1m11s\u001b[0m 28ms/step - accuracy: 0.8325 - loss: 0.3783 - val_accuracy: 0.8322 - val_loss: 0.3746\n",
      "Epoch 10/30\n",
      "\u001b[1m391/391\u001b[0m \u001b[32m━━━━━━━━━━━━━━━━━━━━\u001b[0m\u001b[37m\u001b[0m \u001b[1m11s\u001b[0m 28ms/step - accuracy: 0.8378 - loss: 0.3719 - val_accuracy: 0.8389 - val_loss: 0.3645\n",
      "Epoch 11/30\n",
      "\u001b[1m391/391\u001b[0m \u001b[32m━━━━━━━━━━━━━━━━━━━━\u001b[0m\u001b[37m\u001b[0m \u001b[1m11s\u001b[0m 28ms/step - accuracy: 0.8347 - loss: 0.3728 - val_accuracy: 0.8414 - val_loss: 0.3631\n",
      "Epoch 12/30\n",
      "\u001b[1m391/391\u001b[0m \u001b[32m━━━━━━━━━━━━━━━━━━━━\u001b[0m\u001b[37m\u001b[0m \u001b[1m11s\u001b[0m 29ms/step - accuracy: 0.8383 - loss: 0.3725 - val_accuracy: 0.8402 - val_loss: 0.3648\n",
      "Epoch 13/30\n",
      "\u001b[1m391/391\u001b[0m \u001b[32m━━━━━━━━━━━━━━━━━━━━\u001b[0m\u001b[37m\u001b[0m \u001b[1m11s\u001b[0m 29ms/step - accuracy: 0.8372 - loss: 0.3696 - val_accuracy: 0.8379 - val_loss: 0.3639\n",
      "Epoch 14/30\n",
      "\u001b[1m391/391\u001b[0m \u001b[32m━━━━━━━━━━━━━━━━━━━━\u001b[0m\u001b[37m\u001b[0m \u001b[1m11s\u001b[0m 29ms/step - accuracy: 0.8336 - loss: 0.3670 - val_accuracy: 0.8259 - val_loss: 0.3786\n",
      "Epoch 15/30\n",
      "\u001b[1m391/391\u001b[0m \u001b[32m━━━━━━━━━━━━━━━━━━━━\u001b[0m\u001b[37m\u001b[0m \u001b[1m11s\u001b[0m 29ms/step - accuracy: 0.8362 - loss: 0.3701 - val_accuracy: 0.8272 - val_loss: 0.3739\n",
      "Epoch 16/30\n",
      "\u001b[1m391/391\u001b[0m \u001b[32m━━━━━━━━━━━━━━━━━━━━\u001b[0m\u001b[37m\u001b[0m \u001b[1m11s\u001b[0m 29ms/step - accuracy: 0.8364 - loss: 0.3690 - val_accuracy: 0.8374 - val_loss: 0.3630\n",
      "Epoch 17/30\n",
      "\u001b[1m391/391\u001b[0m \u001b[32m━━━━━━━━━━━━━━━━━━━━\u001b[0m\u001b[37m\u001b[0m \u001b[1m11s\u001b[0m 29ms/step - accuracy: 0.8395 - loss: 0.3615 - val_accuracy: 0.8408 - val_loss: 0.3615\n",
      "Epoch 18/30\n",
      "\u001b[1m391/391\u001b[0m \u001b[32m━━━━━━━━━━━━━━━━━━━━\u001b[0m\u001b[37m\u001b[0m \u001b[1m11s\u001b[0m 29ms/step - accuracy: 0.8399 - loss: 0.3641 - val_accuracy: 0.8397 - val_loss: 0.3595\n",
      "Epoch 19/30\n",
      "\u001b[1m391/391\u001b[0m \u001b[32m━━━━━━━━━━━━━━━━━━━━\u001b[0m\u001b[37m\u001b[0m \u001b[1m11s\u001b[0m 29ms/step - accuracy: 0.8418 - loss: 0.3602 - val_accuracy: 0.8442 - val_loss: 0.3588\n",
      "Epoch 20/30\n",
      "\u001b[1m391/391\u001b[0m \u001b[32m━━━━━━━━━━━━━━━━━━━━\u001b[0m\u001b[37m\u001b[0m \u001b[1m11s\u001b[0m 29ms/step - accuracy: 0.8360 - loss: 0.3675 - val_accuracy: 0.8374 - val_loss: 0.3623\n",
      "Epoch 21/30\n",
      "\u001b[1m391/391\u001b[0m \u001b[32m━━━━━━━━━━━━━━━━━━━━\u001b[0m\u001b[37m\u001b[0m \u001b[1m11s\u001b[0m 29ms/step - accuracy: 0.8435 - loss: 0.3582 - val_accuracy: 0.8418 - val_loss: 0.3562\n",
      "Epoch 22/30\n",
      "\u001b[1m391/391\u001b[0m \u001b[32m━━━━━━━━━━━━━━━━━━━━\u001b[0m\u001b[37m\u001b[0m \u001b[1m11s\u001b[0m 29ms/step - accuracy: 0.8392 - loss: 0.3682 - val_accuracy: 0.8245 - val_loss: 0.3791\n",
      "Epoch 23/30\n",
      "\u001b[1m391/391\u001b[0m \u001b[32m━━━━━━━━━━━━━━━━━━━━\u001b[0m\u001b[37m\u001b[0m \u001b[1m11s\u001b[0m 29ms/step - accuracy: 0.8394 - loss: 0.3606 - val_accuracy: 0.8442 - val_loss: 0.3546\n",
      "Epoch 24/30\n",
      "\u001b[1m391/391\u001b[0m \u001b[32m━━━━━━━━━━━━━━━━━━━━\u001b[0m\u001b[37m\u001b[0m \u001b[1m11s\u001b[0m 28ms/step - accuracy: 0.8367 - loss: 0.3626 - val_accuracy: 0.8446 - val_loss: 0.3582\n",
      "Epoch 25/30\n",
      "\u001b[1m391/391\u001b[0m \u001b[32m━━━━━━━━━━━━━━━━━━━━\u001b[0m\u001b[37m\u001b[0m \u001b[1m11s\u001b[0m 28ms/step - accuracy: 0.8438 - loss: 0.3515 - val_accuracy: 0.8437 - val_loss: 0.3556\n",
      "Epoch 26/30\n",
      "\u001b[1m391/391\u001b[0m \u001b[32m━━━━━━━━━━━━━━━━━━━━\u001b[0m\u001b[37m\u001b[0m \u001b[1m11s\u001b[0m 29ms/step - accuracy: 0.8481 - loss: 0.3469 - val_accuracy: 0.8461 - val_loss: 0.3551\n",
      "Epoch 27/30\n",
      "\u001b[1m391/391\u001b[0m \u001b[32m━━━━━━━━━━━━━━━━━━━━\u001b[0m\u001b[37m\u001b[0m \u001b[1m11s\u001b[0m 29ms/step - accuracy: 0.8470 - loss: 0.3509 - val_accuracy: 0.8453 - val_loss: 0.3598\n",
      "Epoch 28/30\n",
      "\u001b[1m391/391\u001b[0m \u001b[32m━━━━━━━━━━━━━━━━━━━━\u001b[0m\u001b[37m\u001b[0m \u001b[1m11s\u001b[0m 29ms/step - accuracy: 0.8468 - loss: 0.3513 - val_accuracy: 0.8293 - val_loss: 0.3832\n",
      "Epoch 29/30\n",
      "\u001b[1m391/391\u001b[0m \u001b[32m━━━━━━━━━━━━━━━━━━━━\u001b[0m\u001b[37m\u001b[0m \u001b[1m11s\u001b[0m 28ms/step - accuracy: 0.8475 - loss: 0.3507 - val_accuracy: 0.8338 - val_loss: 0.3666\n",
      "Epoch 30/30\n",
      "\u001b[1m391/391\u001b[0m \u001b[32m━━━━━━━━━━━━━━━━━━━━\u001b[0m\u001b[37m\u001b[0m \u001b[1m11s\u001b[0m 28ms/step - accuracy: 0.8470 - loss: 0.3470 - val_accuracy: 0.8464 - val_loss: 0.3570\n"
     ]
    }
   ],
   "source": [
    "glove_wiki_history = glove_wiki_model.fit(\n",
    "    train_data, df_train['label'].values,\n",
    "    validation_data=(test_data, xts['label'].values),\n",
    "    batch_size=64, epochs=30\n",
    ")"
   ]
  },
  {
   "cell_type": "code",
   "execution_count": 62,
   "id": "f9666794-a115-4123-8620-02fe52727889",
   "metadata": {},
   "outputs": [
    {
     "data": {
      "image/png": "[encoded data removed]",
      "text/plain": [
       "<Figure size 640x480 with 1 Axes>"
      ]
     },
     "metadata": {},
     "output_type": "display_data"
    }
   ],
   "source": [
    "plt.plot(countries_wiki_history.history['val_accuracy'], label='Countries wiki')\n",
    "plt.plot(glove_wiki_history.history['val_accuracy'], label='Glove wiki')\n",
    "plt.legend()\n",
    "plt.show()"
   ]
  },
  {
   "cell_type": "code",
   "execution_count": 66,
   "id": "943888f2-6bde-48f0-a626-d23e3b9f81b3",
   "metadata": {},
   "outputs": [],
   "source": [
    "import tensorflow as tf"
   ]
  },
  {
   "cell_type": "code",
   "execution_count": 67,
   "id": "c1d8d5fc-8cd7-4a45-90e5-bfe420a8e41d",
   "metadata": {},
   "outputs": [
    {
     "data": {
      "text/plain": [
       "[]"
      ]
     },
     "execution_count": 67,
     "metadata": {},
     "output_type": "execute_result"
    }
   ],
   "source": [
    "tf.config.list_physical_devices('GPU')"
   ]
  }
 ],
 "metadata": {
  "kernelspec": {
   "display_name": "Python 3 (ipykernel)",
   "language": "python",
   "name": "python3"
  },
  "language_info": {
   "codemirror_mode": {
    "name": "ipython",
    "version": 3
   },
   "file_extension": ".py",
   "mimetype": "text/x-python",
   "name": "python",
   "nbconvert_exporter": "python",
   "pygments_lexer": "ipython3",
   "version": "3.11.11"
  }
 },
 "nbformat": 4,
 "nbformat_minor": 5
}
